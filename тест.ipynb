{
 "cells": [
  {
   "cell_type": "code",
   "execution_count": null,
   "id": "68fd3994",
   "metadata": {},
   "outputs": [],
   "source": [
    "import numpy as np\n",
    "import cv2\n",
    "\n",
    "def find_color(imageFrame, hsvFrame, color_range, color_name, color_value):\n",
    "    lower = np.array(color_range[0], np.uint8)\n",
    "    upper = np.array(color_range[1], np.uint8)\n",
    "    color_mask = cv2.inRange(hsvFrame, lower, upper)\n",
    "    color_mask = cv2.dilate(color_mask, np.ones((5, 5), \"uint8\"))\n",
    "\n",
    "    contours, hierarchy = cv2.findContours(color_mask, cv2.RETR_TREE, cv2.CHAIN_APPROX_SIMPLE)\n",
    "    for pic, contour in enumerate(contours):\n",
    "        area = cv2.contourArea(contour)\n",
    "        if area > 300:\n",
    "            x, y, w, h = cv2.boundingRect(contour)\n",
    "            imageFrame = cv2.rectangle(imageFrame, (x, y), (x + w, y + h), color_value, 2)\n",
    "            cv2.putText(imageFrame, f\"{color_name} Colour\", (x, y), cv2.FONT_HERSHEY_SIMPLEX, 1.0, color_value)\n",
    "    return imageFrame\n",
    "\n",
    "def main():\n",
    "    webcam = cv2.VideoCapture(0)\n",
    "\n",
    "    while True:\n",
    "        _, imageFrame = webcam.read()\n",
    "        hsvFrame = cv2.cvtColor(imageFrame, cv2.COLOR_BGR2HSV)\n",
    "\n",
    "        colors = [\n",
    "    (\"Red\", ([136, 87, 111], [180, 255, 255]), (0, 0, 255)),\n",
    "    (\"Green\", ([25, 52, 72], [102, 255, 255]), (0, 255, 0)),\n",
    "    (\"Blue\", ([94, 80, 2], [120, 255, 255]), (255, 0, 0)),\n",
    "    (\"Yellow\", ([20, 100, 100], [30, 255, 255]), (0, 255, 255)),\n",
    "    (\"Purple\", ([125, 50, 40], [150, 255, 255]), (128, 0, 128)),\n",
    "    (\"Orange\", ([0, 120, 120], [22, 255, 255]), (0, 165, 255)),\n",
    "    (\"Black\", ([0, 0, 0], [180, 255, 30]), (0, 0, 0)),\n",
    "    (\"Pink\", ([140, 100, 100], [170, 255, 255]), (255, 192, 203)),\n",
    "    (\"White\", ([0, 0, 200], [180, 30, 255]), (255, 255, 255)),\n",
    "    \n",
    "    ]\n",
    "\n",
    "        for color_name, color_range, color_value in colors:\n",
    "            imageFrame = find_color(imageFrame, hsvFrame, color_range, color_name, color_value)\n",
    "\n",
    "        cv2.imshow(\"Multiple Color Detection in Real-Time\", imageFrame)\n",
    "        if cv2.waitKey(10) & 0xFF == ord('q'):\n",
    "            webcam.release()\n",
    "            cv2.destroyAllWindows()\n",
    "            break\n",
    "\n",
    "if __name__ == '__main__':\n",
    "    main()\n"
   ]
  },
  {
   "cell_type": "code",
   "execution_count": null,
   "id": "ec03f877",
   "metadata": {},
   "outputs": [],
   "source": []
  }
 ],
 "metadata": {
  "kernelspec": {
   "display_name": "Python 3 (ipykernel)",
   "language": "python",
   "name": "python3"
  },
  "language_info": {
   "codemirror_mode": {
    "name": "ipython",
    "version": 3
   },
   "file_extension": ".py",
   "mimetype": "text/x-python",
   "name": "python",
   "nbconvert_exporter": "python",
   "pygments_lexer": "ipython3",
   "version": "3.9.12"
  }
 },
 "nbformat": 4,
 "nbformat_minor": 5
}
